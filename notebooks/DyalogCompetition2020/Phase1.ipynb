{
 "cells": [
  {
   "cell_type": "markdown",
   "metadata": {},
   "source": [
    "# Phase 1 Review\n",
    "\n",
    "Phase 1 in Dyalog APL Competition is mainly to let the participants explore the various built-ins of APL (sometimes Dyalog APL specific ones). Following it, this review is also focused on possible combinations of built-ins that can solve each problem."
   ]
  },
  {
   "cell_type": "markdown",
   "metadata": {},
   "source": [
    "## Problem 1: Let's Split!\n",
    "\n",
    "Write a function that, given a right argument `Y` which is a scalar or a non-empty vector and a left argument `X` which is a single non-zero integer so that its absolute value is less or equal to `≢Y`, splits `Y` into a vector of two vectors according to `X`, as follows:\n",
    "\n",
    "* If `X>0`, the first vector contains the first `X` elements of `Y` and the second vector contains the remaining elements.\n",
    "* If `X<0`, the second vector contains the last `|X` elements of `Y` and the first vector contains the remaining elements.\n",
    "\n",
    "### Finding a solution\n",
    "\n",
    "The suggested built-in is Take `⍺↑⍵`, which is the obvious choice because:\n",
    "\n",
    "* If `⍺≥0`, `⍺↑⍵` takes first `⍺` cells of `⍵`, and\n",
    "* If `⍺<0`, `⍺↑⍵` takes last `-⍺` cells of `⍵`.\n",
    "\n",
    "Pair this with Drop `⍺↓⍵`, which exactly does the above except it \"drops\" instead of \"takes\", and we get the exact two chunks we need as given in the description."
   ]
  },
  {
   "cell_type": "code",
   "execution_count": 1,
   "metadata": {},
   "outputs": [
    {
     "data": {
      "text/html": [
       "<span style=\"white-space:pre; font-family: monospace\">Rebuilding user command cache... done\n",
       "</span>"
      ]
     },
     "execution_count": 1,
     "metadata": {},
     "output_type": "execute_result"
    },
    {
     "data": {
      "text/html": [
       "<span style=\"white-space:pre; font-family: monospace\">┌───────────┬────────────┬───────────┬────────────┐\n",
       "│┌─┬───────┐│┌─────────┬┐│┌─────┬───┐│┌─────────┬┐│\n",
       "││1│2 3 4 5│││1 2 3 4 5││││3 4 5│1 2│││1 2 3 4 5│││\n",
       "│└─┴───────┘│└─────────┴┘│└─────┴───┘│└─────────┴┘│\n",
       "└───────────┴────────────┴───────────┴────────────┘\n",
       "</span>"
      ]
     },
     "execution_count": 1,
     "metadata": {},
     "output_type": "execute_result"
    }
   ],
   "source": [
    "f←{(⍺↑⍵)(⍺↓⍵)}\n",
    "(1 f ⍳5)(5 f ⍳5)(¯3 f ⍳5)(¯5 f ⍳5)"
   ]
  },
  {
   "cell_type": "markdown",
   "metadata": {},
   "source": [
    "The only problem is that we don't get the correct order of chunks when `⍺` is negative; the outputs should be `(1 2)(3 4 5)` and `⍬(1 2 3 4 5)` respectively. We can fix that in multiple ways:\n",
    "\n",
    "* Use a syntax: Use a dfn guard `{cond:expr1 ⋄ expr2}` to do a case analysis based on the sign of `⍺`.\n",
    "* Solve mathematically: Convert the negative `⍺` to the corresponding positive `⍺`.\n",
    "* Use the Reverse `⌽⍵` or Rotate `⍺⌽⍵` to reorder the cells.\n",
    "    * To run Reverse conditionally, we need Power Operator `f⍣x` so that it can decide if it should run (1 time) or not (0 times).\n",
    "    * Rotation by 1 `1⌽⍵` is the same as reversal for a 2-item vector."
   ]
  },
  {
   "cell_type": "code",
   "execution_count": 2,
   "metadata": {},
   "outputs": [
    {
     "data": {
      "text/html": [
       "<span style=\"white-space:pre; font-family: monospace\">┌───────────┬────────────┬───────────┬────────────┐\n",
       "│┌─┬───────┐│┌─────────┬┐│┌───┬─────┐│┌┬─────────┐│\n",
       "││1│2 3 4 5│││1 2 3 4 5││││1 2│3 4 5││││1 2 3 4 5││\n",
       "│└─┴───────┘│└─────────┴┘│└───┴─────┘│└┴─────────┘│\n",
       "└───────────┴────────────┴───────────┴────────────┘\n",
       "</span>"
      ]
     },
     "execution_count": 2,
     "metadata": {},
     "output_type": "execute_result"
    },
    {
     "data": {
      "text/html": [
       "<span style=\"white-space:pre; font-family: monospace\">┌───────────┬────────────┬───────────┬────────────┐\n",
       "│┌─┬───────┐│┌─────────┬┐│┌───┬─────┐│┌┬─────────┐│\n",
       "││1│2 3 4 5│││1 2 3 4 5││││1 2│3 4 5││││1 2 3 4 5││\n",
       "│└─┴───────┘│└─────────┴┘│└───┴─────┘│└┴─────────┘│\n",
       "└───────────┴────────────┴───────────┴────────────┘\n",
       "</span>"
      ]
     },
     "execution_count": 2,
     "metadata": {},
     "output_type": "execute_result"
    },
    {
     "data": {
      "text/html": [
       "<span style=\"white-space:pre; font-family: monospace\">┌───────────┬────────────┬───────────┬────────────┐\n",
       "│┌─┬───────┐│┌─────────┬┐│┌───┬─────┐│┌┬─────────┐│\n",
       "││1│2 3 4 5│││1 2 3 4 5││││1 2│3 4 5││││1 2 3 4 5││\n",
       "│└─┴───────┘│└─────────┴┘│└───┴─────┘│└┴─────────┘│\n",
       "└───────────┴────────────┴───────────┴────────────┘\n",
       "</span>"
      ]
     },
     "execution_count": 2,
     "metadata": {},
     "output_type": "execute_result"
    },
    {
     "data": {
      "text/html": [
       "<span style=\"white-space:pre; font-family: monospace\">┌───────────┬────────────┬───────────┬────────────┐\n",
       "│┌─┬───────┐│┌─────────┬┐│┌───┬─────┐│┌┬─────────┐│\n",
       "││1│2 3 4 5│││1 2 3 4 5││││1 2│3 4 5││││1 2 3 4 5││\n",
       "│└─┴───────┘│└─────────┴┘│└───┴─────┘│└┴─────────┘│\n",
       "└───────────┴────────────┴───────────┴────────────┘\n",
       "</span>"
      ]
     },
     "execution_count": 2,
     "metadata": {},
     "output_type": "execute_result"
    }
   ],
   "source": [
    "f1←{⍺>0:(⍺↑⍵)(⍺↓⍵) ⋄ (⍺↓⍵)(⍺↑⍵)}  ⍝ Using dfn guard\n",
    "f2←{(⍺+(≢⍵)×⍺<0){(⍺↑⍵)(⍺↓⍵)}⍵}    ⍝ Converting negative ⍺ to positive\n",
    "f3←{⌽⍣(⍺<0)⊢(⍺↑⍵)(⍺↓⍵)}           ⍝ Using ⍣\n",
    "f4←{(⍺<0)⌽(⍺↑⍵)(⍺↓⍵)}             ⍝ Using ⍺⌽⍵\n",
    "(1 f1 ⍳5)(5 f1 ⍳5)(¯3 f1 ⍳5)(¯5 f1 ⍳5)\n",
    "(1 f2 ⍳5)(5 f2 ⍳5)(¯3 f2 ⍳5)(¯5 f2 ⍳5)\n",
    "(1 f3 ⍳5)(5 f3 ⍳5)(¯3 f3 ⍳5)(¯5 f3 ⍳5)\n",
    "(1 f4 ⍳5)(5 f4 ⍳5)(¯3 f4 ⍳5)(¯5 f4 ⍳5)"
   ]
  },
  {
   "cell_type": "markdown",
   "metadata": {},
   "source": [
    "### Other possible alternatives\n",
    "\n",
    "Since Dyalog APL 18.0, we get an extension to Partitioned Enclose `⍺⊂⍵` and the inverse of Indices `⍸⍣¯1⊢⍵`, whose combination can give an interesting take (pun intended) to the task. We want two chunks of `⍵`, one always starting at the first item and the other starting at an adjusted value of `⍺`:"
   ]
  },
  {
   "cell_type": "code",
   "execution_count": 3,
   "metadata": {},
   "outputs": [
    {
     "data": {
      "text/html": [
       "<span style=\"white-space:pre; font-family: monospace\">┌───────────┬────────────┬────────────┐\n",
       "│┌─┬───────┐│┌─────────┬┐│┌┬─────────┐│\n",
       "││1│2 3 4 5│││1 2 3 4 5│││││1 2 3 4 5││\n",
       "│└─┴───────┘│└─────────┴┘│└┴─────────┘│\n",
       "└───────────┴────────────┴────────────┘\n",
       "</span>"
      ]
     },
     "execution_count": 3,
     "metadata": {},
     "output_type": "execute_result"
    }
   ],
   "source": [
    "(1 1⊂⍳5)(1 0 0 0 0 1⊂⍳5)((,2)⊂⍳5)"
   ]
  },
  {
   "cell_type": "markdown",
   "metadata": {},
   "source": [
    "The left arguments `1 1` or `1 0 0 0 0 1` can be generated from `⍸⍣¯1` (I use `⎕IO←0` to show you how the `⍺`s map to the second element):"
   ]
  },
  {
   "cell_type": "code",
   "execution_count": 4,
   "metadata": {},
   "outputs": [
    {
     "data": {
      "text/html": [
       "<span style=\"white-space:pre; font-family: monospace\">┌───┬───────────┬─┐\n",
       "│1 1│1 0 0 0 0 1│2│\n",
       "└───┴───────────┴─┘\n",
       "</span>"
      ]
     },
     "execution_count": 4,
     "metadata": {},
     "output_type": "execute_result"
    }
   ],
   "source": [
    "{⎕IO←0 ⋄ ⍸⍣¯1⊢⍵}¨ (0 1)(0 5)(0 0)"
   ]
  },
  {
   "cell_type": "markdown",
   "metadata": {},
   "source": [
    "We can combine the two steps and use the mathematical approach from the previous section:"
   ]
  },
  {
   "cell_type": "code",
   "execution_count": 5,
   "metadata": {},
   "outputs": [
    {
     "data": {
      "text/html": [
       "<span style=\"white-space:pre; font-family: monospace\">┌───────────┬────────────┬───────────┬────────────┐\n",
       "│┌─┬───────┐│┌─────────┬┐│┌───┬─────┐│┌┬─────────┐│\n",
       "││1│2 3 4 5│││1 2 3 4 5││││1 2│3 4 5││││1 2 3 4 5││\n",
       "│└─┴───────┘│└─────────┴┘│└───┴─────┘│└┴─────────┘│\n",
       "└───────────┴────────────┴───────────┴────────────┘\n",
       "</span>"
      ]
     },
     "execution_count": 5,
     "metadata": {},
     "output_type": "execute_result"
    }
   ],
   "source": [
    "f5←{⎕IO←0 ⋄ (⍸⍣¯1⊢0,⍺+(≢⍵)×⍺<0)⊂⍵}\n",
    "(1 f5 ⍳5)(5 f5 ⍳5)(¯3 f5 ⍳5)(¯5 f5 ⍳5)"
   ]
  }
 ],
 "metadata": {
  "kernelspec": {
   "display_name": "Dyalog APL",
   "language": "apl",
   "name": "dyalog-kernel"
  },
  "language_info": {
   "file_extension": ".apl",
   "mimetype": "text/apl",
   "name": "APL"
  }
 },
 "nbformat": 4,
 "nbformat_minor": 4
}
